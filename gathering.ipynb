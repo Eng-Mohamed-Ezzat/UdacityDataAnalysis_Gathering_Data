{
 "cells": [
  {
   "cell_type": "code",
   "execution_count": 76,
   "id": "middle-aquarium",
   "metadata": {},
   "outputs": [],
   "source": [
    "import os\n",
    "import pathlib\n",
    "import pandas as pd\n",
    "from bs4 import BeautifulSoup"
   ]
  },
  {
   "cell_type": "code",
   "execution_count": 80,
   "id": "answering-biotechnology",
   "metadata": {},
   "outputs": [],
   "source": [
    "# List of dictionaries to build file by file and later convert to a DataFrame\n",
    "df_list = []\n",
    "folder = \"rt_html\""
   ]
  },
  {
   "cell_type": "code",
   "execution_count": 85,
   "id": "sixth-celtic",
   "metadata": {},
   "outputs": [
    {
     "name": "stdout",
     "output_type": "stream",
     "text": [
      "- Title:\t12 Angry Men (Twelve Angry Men) (1957) \n",
      "- Audience Score:\t97\n",
      "- Rate:\t103672\n"
     ]
    }
   ],
   "source": [
    "#Check for First\n",
    "for html_doc in os.listdir(folder):\n",
    "    #print(os.path.join(folder,html_doc))\n",
    "    path = pathlib.Path(os.path.join(folder,html_doc))\n",
    "    if not path.is_file: continue\n",
    "    with open(path,mode='r') as file:\n",
    "        soup = BeautifulSoup(file, features=\"html.parser\")\n",
    "        title = soup.find(\"title\").contents[0].split(\"-\")[0]\n",
    "        print(\"- Title:\\t{}\".format(title))   \n",
    "        audience_score = soup.find(\"div\", class_=\"audience-score meter\").find(\"span\")\n",
    "        print(\"- Audience Score:\\t{}\".format(audience_score.contents[0][:-1]))\n",
    "        rate = soup.find(\"div\", class_=\"audience-info hidden-xs superPageFontColor\").find_all(\"div\")[1]\n",
    "        print(\"- Rate:\\t{}\".format(rate.contents[2].strip().replace(\",\",\"\")))\n",
    "        break"
   ]
  },
  {
   "cell_type": "code",
   "execution_count": 86,
   "id": "severe-secretary",
   "metadata": {},
   "outputs": [],
   "source": [
    "for html_doc in os.listdir(folder):\n",
    "    #print(os.path.join(folder,html_doc))\n",
    "    path = pathlib.Path(os.path.join(folder,html_doc))\n",
    "    if not path.is_file: continue\n",
    "    with open(path,mode='r') as file:\n",
    "        soup = BeautifulSoup(file, features=\"html.parser\")\n",
    "        title = soup.find(\"title\").contents[0].split(\"-\")[0]\n",
    "        audience_score = soup.find(\"div\", class_=\"audience-score meter\").find(\"span\").contents[0][:-1]\n",
    "        num_audience_ratings = soup.find(\"div\", class_=\"audience-info hidden-xs superPageFontColor\").find_all(\"div\")[1].contents[2].strip().replace(\",\",\"\")\n",
    "        \n",
    "        # Append to list of dictionaries\n",
    "        df_list.append({'title': title,\n",
    "                        'audience_score': int(audience_score),\n",
    "                        'number_of_audience_ratings': int(num_audience_ratings)})\n",
    "        \n",
    "df = pd.DataFrame(df_list, columns = ['title', 'audience_score', 'number_of_audience_ratings'])"
   ]
  },
  {
   "cell_type": "markdown",
   "id": "married-cleanup",
   "metadata": {},
   "source": [
    "## Solution Test\n",
    "Run the cell below the see if your solution is correct. If an `AssertionError` is thrown, your solution is incorrect. If no error is thrown, your solution is correct."
   ]
  },
  {
   "cell_type": "code",
   "execution_count": null,
   "id": "broken-vaccine",
   "metadata": {},
   "outputs": [],
   "source": [
    "df_solution = pd.read_pickle('df_solution.pkl')\n",
    "df.sort_values('title', inplace = True)\n",
    "df.reset_index(inplace = True, drop = True)\n",
    "df_solution.sort_values('title', inplace = True)\n",
    "df_solution.reset_index(inplace = True, drop = True)\n",
    "pd.testing.assert_frame_equal(df, df_solution)"
   ]
  },
  {
   "cell_type": "code",
   "execution_count": null,
   "id": "western-vanilla",
   "metadata": {},
   "outputs": [],
   "source": []
  },
  {
   "cell_type": "code",
   "execution_count": null,
   "id": "african-isaac",
   "metadata": {},
   "outputs": [],
   "source": []
  }
 ],
 "metadata": {
  "kernelspec": {
   "display_name": "Python 3",
   "language": "python",
   "name": "python3"
  },
  "language_info": {
   "codemirror_mode": {
    "name": "ipython",
    "version": 3
   },
   "file_extension": ".py",
   "mimetype": "text/x-python",
   "name": "python",
   "nbconvert_exporter": "python",
   "pygments_lexer": "ipython3",
   "version": "3.9.0"
  }
 },
 "nbformat": 4,
 "nbformat_minor": 5
}
